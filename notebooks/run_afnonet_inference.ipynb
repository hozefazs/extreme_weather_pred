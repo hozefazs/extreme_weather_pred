{
 "cells": [
  {
   "cell_type": "code",
   "execution_count": 1,
   "id": "19a84f53-3c71-48fc-a0c8-c1eb431f1b6d",
   "metadata": {},
   "outputs": [
    {
     "name": "stdout",
     "output_type": "stream",
     "text": [
      "Requirement already satisfied: h5py in /opt/conda/lib/python3.10/site-packages (3.9.0)\n",
      "Requirement already satisfied: numpy>=1.17.3 in /opt/conda/lib/python3.10/site-packages (from h5py) (1.23.5)\n"
     ]
    }
   ],
   "source": [
    "!pip install h5py"
   ]
  },
  {
   "cell_type": "code",
   "execution_count": 3,
   "id": "6492e913-340f-4093-a94a-bc907959f281",
   "metadata": {},
   "outputs": [],
   "source": [
    "import h5py\n",
    "import numpy as np\n",
    "import pandas as pd"
   ]
  },
  {
   "cell_type": "code",
   "execution_count": 4,
   "id": "11386f45-80d5-4f27-87a4-fae7f4cb467a",
   "metadata": {},
   "outputs": [],
   "source": [
    "dataset = h5py.File('../data/2017.h5', 'r')"
   ]
  },
  {
   "cell_type": "code",
   "execution_count": 5,
   "id": "3bdd94b0-6707-45bd-aaab-d485aa5de74c",
   "metadata": {},
   "outputs": [
    {
     "data": {
      "text/plain": [
       "<HDF5 file \"2017.h5\" (mode r)>"
      ]
     },
     "execution_count": 5,
     "metadata": {},
     "output_type": "execute_result"
    }
   ],
   "source": [
    "dataset"
   ]
  },
  {
   "cell_type": "code",
   "execution_count": 6,
   "id": "9583a8e9-f86f-4c48-b134-508e87a47fde",
   "metadata": {},
   "outputs": [
    {
     "data": {
      "text/plain": [
       "<KeysViewHDF5 ['fields']>"
      ]
     },
     "execution_count": 6,
     "metadata": {},
     "output_type": "execute_result"
    }
   ],
   "source": [
    "dataset.keys()"
   ]
  },
  {
   "cell_type": "code",
   "execution_count": 7,
   "id": "479d480c-6937-47d4-8122-2c426b35feac",
   "metadata": {},
   "outputs": [
    {
     "data": {
      "text/plain": [
       "<HDF5 dataset \"fields\": shape (1460, 21, 721, 1440), type \"<f4\">"
      ]
     },
     "execution_count": 7,
     "metadata": {},
     "output_type": "execute_result"
    }
   ],
   "source": [
    "dataset[\"fields\"]"
   ]
  },
  {
   "cell_type": "code",
   "execution_count": 40,
   "id": "b1919cad-0e85-46d4-8856-52397f4130a3",
   "metadata": {},
   "outputs": [],
   "source": [
    "#!cp -r /home/jupyter/extreme_weather_pred/FourCastNet/utils .\n",
    "!cp -r /home/jupyter/extreme_weather_pred/FourCastNet/networks .\n",
    "#!mv utils utilities"
   ]
  },
  {
   "cell_type": "code",
   "execution_count": 38,
   "id": "5e31baf5-cb4f-4b68-a527-98b5ab7fe57a",
   "metadata": {},
   "outputs": [
    {
     "name": "stdout",
     "output_type": "stream",
     "text": [
      "automl_3_hor_sel_fea_Dallas_tabular_forecasting_batch.ipynb\n",
      "data_prep_era5.ipynb\n",
      "data_prep_visual_crossing_weather.ipynb\n",
      "filter_us.ipynb\n",
      "run_afnonet_inference.ipynb\n",
      "utilities\n"
     ]
    }
   ],
   "source": [
    "!ls"
   ]
  },
  {
   "cell_type": "code",
   "execution_count": 45,
   "id": "63dd8961-d2f1-457e-a739-6401824da689",
   "metadata": {},
   "outputs": [],
   "source": [
    "import os\n",
    "import sys\n",
    "import time\n",
    "import numpy as np\n",
    "import argparse\n",
    "#sys.path.append(\"/home/jupyter/extreme_weather_pred/notebooks\")\n",
    "#sys.path.append(\"../FourCastNet\")\n",
    "\n",
    "#sys.path.append(os.path.dirname(os.path.realpath(__file__)) + '/../')\n",
    "from numpy.core.numeric import False_\n",
    "import h5py\n",
    "import torch\n",
    "import torchvision\n",
    "from torchvision.utils import save_image\n",
    "import torch.nn as nn\n",
    "import torch.cuda.amp as amp\n",
    "import torch.distributed as dist\n",
    "from collections import OrderedDict\n",
    "from torch.nn.parallel import DistributedDataParallel\n",
    "import logging\n",
    "from utilities import logging_utils\n",
    "from utilities.weighted_acc_rmse import weighted_rmse_torch_channels, weighted_acc_torch_channels, unweighted_acc_torch_channels, weighted_acc_masked_torch_channels\n",
    "logging_utils.config_logger()\n",
    "from utilities.YParams import YParams\n",
    "from utilities.data_loader_multifiles import get_data_loader\n",
    "from networks.afnonet import AFNONet\n",
    "import wandb\n",
    "import matplotlib.pyplot as plt\n",
    "import glob\n",
    "from datetime import datetime\n"
   ]
  },
  {
   "cell_type": "code",
   "execution_count": 46,
   "id": "fb507f03-6377-410d-b42a-80af1bbc5b58",
   "metadata": {},
   "outputs": [],
   "source": [
    "#!pip install wandb\n",
    "#!pip install timm\n",
    "#!pip install einops"
   ]
  },
  {
   "cell_type": "code",
   "execution_count": 13,
   "id": "7b7a65f0-2af2-40bc-bf46-d81b2434e3c3",
   "metadata": {},
   "outputs": [
    {
     "name": "stdout",
     "output_type": "stream",
     "text": [
      "YParams.py\t\t   date_time_to_hours.py  weighted_acc_rmse.py\n",
      "darcy_loss.py\t\t   img_utils.py\n",
      "data_loader_multifiles.py  logging_utils.py\n"
     ]
    }
   ],
   "source": [
    "!ls ../FourCastNet/utils/"
   ]
  },
  {
   "cell_type": "code",
   "execution_count": 48,
   "id": "db768b1d-7bbe-46e8-bdb9-085b925fc10e",
   "metadata": {},
   "outputs": [],
   "source": [
    "\n",
    "fld = \"z500\" # diff flds have diff decor times and hence differnt ics\n",
    "if fld == \"z500\" or fld == \"2m_temperature\" or fld == \"t850\":\n",
    "    DECORRELATION_TIME = 36 # 9 days (36) for z500, 2 (8 steps) days for u10, v10\n",
    "else:\n",
    "    DECORRELATION_TIME = 8 # 9 days (36) for z500, 2 (8 steps) days for u10, v10\n",
    "idxes = {\"u10\":0, \"z500\":14, \"2m_temperature\":2, \"v10\":1, \"t850\":5}\n",
    "\n",
    "def gaussian_perturb(x, level=0.01, device=0):\n",
    "    noise = level * torch.randn(x.shape).to(device, dtype=torch.float)\n",
    "    return (x + noise)\n",
    "\n",
    "def load_model(model, params, checkpoint_file):\n",
    "    model.zero_grad()\n",
    "    checkpoint_fname = checkpoint_file\n",
    "    checkpoint = torch.load(checkpoint_fname)\n",
    "    try:\n",
    "        new_state_dict = OrderedDict()\n",
    "        for key, val in checkpoint['model_state'].items():\n",
    "            name = key[7:]\n",
    "            if name != 'ged':\n",
    "                new_state_dict[name] = val  \n",
    "        model.load_state_dict(new_state_dict)\n",
    "    except:\n",
    "        model.load_state_dict(checkpoint['model_state'])\n",
    "    model.eval()\n",
    "    return model\n",
    "\n",
    "def downsample(x, scale=0.125):\n",
    "    return torch.nn.functional.interpolate(x, scale_factor=scale, mode='bilinear')\n"
   ]
  },
  {
   "cell_type": "code",
   "execution_count": 53,
   "id": "0c074f0d-c071-4a59-9624-b9a43272bce8",
   "metadata": {},
   "outputs": [
    {
     "data": {
      "text/plain": [
       "_StoreAction(option_strings=['--weights'], dest='weights', nargs=None, const=None, default=None, type=<class 'str'>, choices=None, required=False, help='Path to model weights, for use with override_dir option', metavar=None)"
      ]
     },
     "execution_count": 53,
     "metadata": {},
     "output_type": "execute_result"
    }
   ],
   "source": [
    "parser = argparse.ArgumentParser()\n",
    "parser.add_argument(\"--run_num\", default='00', type=str)\n",
    "parser.add_argument(\"--yaml_config\", default='./config/AFNO.yaml', type=str)\n",
    "parser.add_argument(\"--config\", default='full_field', type=str)\n",
    "parser.add_argument(\"--use_daily_climatology\", action='store_true')\n",
    "parser.add_argument(\"--vis\", action='store_true')\n",
    "parser.add_argument(\"--override_dir\", default=None, type = str, help = 'Path to store inference outputs; must also set --weights arg')\n",
    "parser.add_argument(\"--interp\", default=0, type=float)\n",
    "parser.add_argument(\"--weights\", default=None, type=str, help = 'Path to model weights, for use with override_dir option')"
   ]
  },
  {
   "cell_type": "code",
   "execution_count": 54,
   "id": "dfcc3b6b-b6e5-4a80-bd4e-77982e7c2851",
   "metadata": {},
   "outputs": [
    {
     "data": {
      "text/plain": [
       "ArgumentParser(prog='ipykernel_launcher.py', usage=None, description=None, formatter_class=<class 'argparse.HelpFormatter'>, conflict_handler='error', add_help=True)"
      ]
     },
     "execution_count": 54,
     "metadata": {},
     "output_type": "execute_result"
    }
   ],
   "source": [
    "parser"
   ]
  },
  {
   "cell_type": "code",
   "execution_count": 55,
   "id": "7041c339-5dab-4efb-bb43-1422c388f6a7",
   "metadata": {},
   "outputs": [
    {
     "ename": "NameError",
     "evalue": "name 'args' is not defined",
     "output_type": "error",
     "traceback": [
      "\u001b[0;31m---------------------------------------------------------------------------\u001b[0m",
      "\u001b[0;31mNameError\u001b[0m                                 Traceback (most recent call last)",
      "Cell \u001b[0;32mIn[55], line 2\u001b[0m\n\u001b[1;32m      1\u001b[0m \u001b[38;5;66;03m#args = parser.parse_args()\u001b[39;00m\n\u001b[0;32m----> 2\u001b[0m params \u001b[38;5;241m=\u001b[39m YParams(os\u001b[38;5;241m.\u001b[39mpath\u001b[38;5;241m.\u001b[39mabspath(\u001b[43margs\u001b[49m\u001b[38;5;241m.\u001b[39myaml_config), args\u001b[38;5;241m.\u001b[39mconfig)\n",
      "\u001b[0;31mNameError\u001b[0m: name 'args' is not defined"
     ]
    }
   ],
   "source": [
    "#args = parser.parse_args()\n",
    "params = YParams(os.path.abspath(args.yaml_config), args.config)"
   ]
  },
  {
   "cell_type": "code",
   "execution_count": null,
   "id": "2174574e-0f2d-4156-9b86-965f6ca58ceb",
   "metadata": {},
   "outputs": [],
   "source": [
    "args = parser.parse_args()\n",
    "params = YParams(os.path.abspath(args.yaml_config), args.config)\n",
    "params['world_size'] = 1\n",
    "params['interp'] = args.interp\n",
    "params['use_daily_climatology'] = args.use_daily_climatology\n",
    "params['global_batch_size'] = params.batch_size\n",
    "\n",
    "torch.cuda.set_device(0)\n",
    "    torch.backends.cudnn.benchmark = True\n",
    "    vis = args.vis"
   ]
  }
 ],
 "metadata": {
  "environment": {
   "kernel": "python3",
   "name": "pytorch-gpu.1-13.m109",
   "type": "gcloud",
   "uri": "gcr.io/deeplearning-platform-release/pytorch-gpu.1-13:m109"
  },
  "kernelspec": {
   "display_name": "Python 3",
   "language": "python",
   "name": "python3"
  },
  "language_info": {
   "codemirror_mode": {
    "name": "ipython",
    "version": 3
   },
   "file_extension": ".py",
   "mimetype": "text/x-python",
   "name": "python",
   "nbconvert_exporter": "python",
   "pygments_lexer": "ipython3",
   "version": "3.10.11"
  }
 },
 "nbformat": 4,
 "nbformat_minor": 5
}
