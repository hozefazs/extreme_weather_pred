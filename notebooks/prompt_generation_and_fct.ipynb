{
 "cells": [
  {
   "cell_type": "markdown",
   "id": "af6cb0c1",
   "metadata": {},
   "source": [
    "### Rules\n",
    "\n",
    "Temperature\tStandard deviation\tClassification\n",
    "\n",
    "-20 degrees Fahrenheit\t-5\tExtreme\n",
    "\n",
    "-15 degrees Fahrenheit\t-4\tExtreme\n",
    "\n",
    "-10 degrees Fahrenheit\t-3\tExtreme\n",
    "\n",
    "-5 degrees Fahrenheit\t-2\tExtreme\n",
    "\n",
    "0 degrees Fahrenheit\t-1\tExtreme\n",
    "\n",
    "5 degrees Fahrenheit\t0\tNormal\n",
    "\n",
    "10 degrees Fahrenheit\t1\tAbove average\n",
    "\n",
    "15 degrees Fahrenheit\t2\tAbove average\n",
    "\n",
    "20 degrees Fahrenheit\t3\tAbove average\n",
    "\n",
    "25 degrees Fahrenheit\t4\tExtreme\n",
    "\n",
    "30 degrees Fahrenheit\t5\tExtreme\n",
    "\n",
    "35 degrees Fahrenheit\t6\tExtreme\n",
    "\n",
    "40 degrees Fahrenheit\t7\tExtreme\n",
    "\n",
    "45 degrees Fahrenheit\t8\tExtreme\n",
    "\n",
    "50 degrees Fahrenheit\t9\tExtreme\n",
    "\n",
    "55 degrees Fahrenheit\t10\tExtreme\n",
    "\n",
    "60 degrees Fahrenheit\t11\tExtreme\n",
    "\n",
    "65 degrees Fahrenheit\t12\tExtreme\n",
    "\n",
    "70 degrees Fahrenheit\t13\tNormal\n",
    "\n",
    "75 degrees Fahrenheit\t14\tAbove average\n",
    "\n",
    "80 degrees Fahrenheit\t15\tAbove average\n",
    "\n",
    "85 degrees Fahrenheit\t16\tExtreme\n",
    "\n",
    "90 degrees Fahrenheit\t17\tExtreme\n",
    "\n",
    "95 degrees Fahrenheit\t18\tExtreme\n",
    "\n",
    "100 degrees Fahrenheit\t19\tExtreme\n",
    "\n",
    "105 degrees Fahrenheit\t20\tExtreme\n",
    "\n",
    "110 degrees Fahrenheit\t21\tExtreme\n",
    "\n",
    "115 degrees Fahrenheit\t22\tExtreme\n",
    "\n",
    "120 degrees Fahrenheit\t23\tExtreme"
   ]
  },
  {
   "cell_type": "markdown",
   "id": "ee8ce61b",
   "metadata": {},
   "source": [
    "### Read \"context\" data"
   ]
  },
  {
   "cell_type": "code",
   "execution_count": 33,
   "id": "6fc71b42",
   "metadata": {},
   "outputs": [
    {
     "name": "stdout",
     "output_type": "stream",
     "text": [
      "Below are going to be pasted for a given area, the temperatures t_max and t_min for a given prediction.\n",
      " \n",
      "With these temperatures that are continuous values, the agent is going to provide with recommendations and warnings.\n",
      "\n",
      "For these warnings and recommendations, the agent should remember the following general rules:\n",
      "1. t_min below 0 Fahrenheit is considered as cold and is going to cause the water to freeze\n",
      "2. t_min below -10 Fahrenheit and lower is considered extreme\n",
      "3. t_max above 75 Fahrenheit is considered above average\n",
      "4. t_max above 100 Fahrenheit is considered extremely hot \n",
      "\n"
     ]
    }
   ],
   "source": [
    "f = open(\"prompt_chat.txt\", \"r\")\n",
    "prompt_context = f.read()\n",
    "print(prompt_context)\n",
    "f.close;"
   ]
  },
  {
   "cell_type": "markdown",
   "id": "0edb7eb9",
   "metadata": {},
   "source": [
    "### Functions to Generate Mock data and to transform raw temperatures into txt format for the LLM."
   ]
  },
  {
   "cell_type": "code",
   "execution_count": 26,
   "id": "dc74b773",
   "metadata": {},
   "outputs": [],
   "source": [
    "\n",
    "def data_to_input_text(location, t_max, t_min, context):\n",
    "    \"\"\"transform data into promptable format\"\"\"\n",
    "    txt = context\n",
    "    txt += f\"\\n\\nPrediction in {location}, t_max: {t_max},  t_min: {t_min}\"\n",
    "    return txt\n",
    "    \n",
    "def comments(t_max, t_min):\n",
    "    \"\"\"Automatised data commentaries, very basic\"\"\"\n",
    "    if t_min < -10:\n",
    "        return \"temperature will be extremely cold and ice\"\n",
    "    elif t <= 0:\n",
    "        return \"temperature will be cold and water likely to freeze\"\n",
    "    \n",
    "    if t_max > 100:\n",
    "        return \"temperature will very high, it will be a rarely hot weather\"\n",
    "    elif t_max > 75:\n",
    "        return \"the weather will be warm\"\n",
    "    \n",
    "    return \"the weather conditions will be rather normal\"\n",
    "    \n",
    "    \n",
    "def data_to_output_text(location, t_max, t_min):\n",
    "    \"\"\"Data to output text prompt\"\"\"\n",
    "    txt = comments(t_max, t_min)\n",
    "    return txt\n"
   ]
  },
  {
   "cell_type": "markdown",
   "id": "895d1a64",
   "metadata": {},
   "source": [
    "### Data Generation, Simulation"
   ]
  },
  {
   "cell_type": "code",
   "execution_count": 27,
   "id": "76f74ad7",
   "metadata": {},
   "outputs": [],
   "source": [
    "\n",
    "import random\n",
    "import json\n",
    "\n",
    "training_data = []\n",
    "location = \"Fort Worth\"\n",
    "for t in range(-20, 120, 10): \n",
    "    t_max = t + 10 + random.gauss(0,2)\n",
    "    t_min = t - 10 + random.gauss(0,2)\n",
    "    training_data.append({\"input_text\": data_to_input_text(location, t_max, t_min, prompt_context), \n",
    "                          \"output_text\": data_to_output_text(location, t_max, t_min)})\n",
    "\n",
    "location = \"Dallas\"\n",
    "for t in range(-20, 120, 10): \n",
    "    t_max = t + 10 + random.gauss(0,2)\n",
    "    t_min = t - 10 + random.gauss(0,2)\n",
    "    training_data.append({\"input_text\": data_to_input_text(location, t_max, t_min, prompt_context), \n",
    "                          \"output_text\": data_to_output_text(location, t_max, t_min)})\n",
    " "
   ]
  },
  {
   "cell_type": "code",
   "execution_count": 30,
   "id": "be0ad312",
   "metadata": {},
   "outputs": [],
   "source": [
    "import json\n",
    "#with open('') as f:\n",
    "#    data = [json.loads(line) for line in f]\n",
    "with open(\"train_data_for_prompts.jsonl\", 'w') as f:\n",
    "    for item in training_data:\n",
    "        json.dump(item, f)"
   ]
  }
 ],
 "metadata": {
  "kernelspec": {
   "display_name": "Python 3 (ipykernel)",
   "language": "python",
   "name": "python3"
  },
  "language_info": {
   "codemirror_mode": {
    "name": "ipython",
    "version": 3
   },
   "file_extension": ".py",
   "mimetype": "text/x-python",
   "name": "python",
   "nbconvert_exporter": "python",
   "pygments_lexer": "ipython3",
   "version": "3.10.11"
  }
 },
 "nbformat": 4,
 "nbformat_minor": 5
}
